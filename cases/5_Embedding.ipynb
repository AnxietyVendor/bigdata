{
 "cells": [
  {
   "cell_type": "code",
   "execution_count": 14,
   "metadata": {
    "ExecuteTime": {
     "end_time": "2019-01-09T00:41:41.334687Z",
     "start_time": "2019-01-09T00:41:41.327571Z"
    },
    "scrolled": true
   },
   "outputs": [],
   "source": [
    "from gensim.models import KeyedVectors\n",
    "import pandas as pd\n",
    "import numpy as np\n",
    "import matplotlib.pyplot as plt\n",
    "import sys\n",
    "import gensim\n",
    "import sklearn\n",
    "from glob import glob\n",
    "import numpy as np\n",
    "from scipy import spatial\n",
    "from gensim.models.doc2vec import Doc2Vec, LabeledSentence\n",
    "import math"
   ]
  },
  {
   "cell_type": "code",
   "execution_count": 15,
   "metadata": {
    "ExecuteTime": {
     "end_time": "2019-01-09T00:41:48.274182Z",
     "start_time": "2019-01-09T00:41:48.266043Z"
    }
   },
   "outputs": [],
   "source": [
    "def normalize(v):\n",
    "    norm = np.linalg.norm(v)\n",
    "    if norm == 0:\n",
    "        return v\n",
    "    return v / norm\n",
    "\n",
    "def projection(one, two):\n",
    "    # cosine similarity\n",
    "    return (1 - spatial.distance.cosine(one, two))\n",
    "\n",
    "def cosine2angle(i):\n",
    "    return np.arccos(i) / np.pi * 180 #长度换角度"
   ]
  },
  {
   "cell_type": "code",
   "execution_count": 16,
   "metadata": {
    "ExecuteTime": {
     "end_time": "2019-01-09T00:41:53.037485Z",
     "start_time": "2019-01-09T00:41:53.000518Z"
    }
   },
   "outputs": [],
   "source": [
    "TaggededDocument = gensim.models.doc2vec.TaggedDocument\n",
    "\n",
    "def get_datasest():\n",
    "    files=glob(all_files)\n",
    "    x_train=[]\n",
    "    for i,f in enumerate(files):\n",
    "        data=pd.read_csv(f,names=column_list)\n",
    "        data=data[['user_id','app_type_name','app_name','start_time']]\n",
    "        data=data.sort_values(by=['start_time'],ascending=True)\n",
    "        data=data[data['app_name']!='其他'] \n",
    "        data=data[data['app_name'].notnull()]\n",
    "        doc=list(data['app_name'].values)\n",
    "        doc_type=list(data['app_type_name'].values)\n",
    "        word_list=[]\n",
    "        for j in range(len(doc)-1):\n",
    "            if doc[j]!=doc[j+1]:\n",
    "                word_list.extend([doc_type[j+1],doc[j+1]])\n",
    "        document = TaggededDocument(word_list, tags=[i])\n",
    "        x_train.append(document)\n",
    "    return x_train\n",
    "\n",
    "def train(x_train, size=300, epoch_num=1):\n",
    "    model_dm = Doc2Vec(x_train, size = size, sample=1e-3, negative=5, workers=4, dm=1, dbow_words=1,dm_concat=1)\n",
    "    model_dm.train(x_train, total_examples=model_dm.corpus_count, epochs=70)\n",
    "    model_dm.save('1.txt')\n",
    " \n",
    "    return model_dm\n",
    " "
   ]
  },
  {
   "cell_type": "code",
   "execution_count": 17,
   "metadata": {
    "ExecuteTime": {
     "end_time": "2019-01-09T00:41:55.159953Z",
     "start_time": "2019-01-09T00:41:55.135514Z"
    }
   },
   "outputs": [],
   "source": [
    "def word_list(path):\n",
    "    node=pd.read_csv(path,names=[1,2,3])\n",
    "    word_list=node[3].values\n",
    "    word_list=set(word_list)\n",
    "    return word_list\n",
    "    \n",
    "def save_docvec(path,model_dm):\n",
    "    a=[]\n",
    "    files=glob(all_files)\n",
    "    for i,f in enumerate(files):\n",
    "        name=f.split('_')[-1].split('.')[0]\n",
    "        doc=model_dm.docvecs[i]\n",
    "        a.append([name,doc])\n",
    "    d=pd.DataFrame(a)\n",
    "    d.to_csv(path,header=False)\n",
    "\n",
    "def save_wordvec(path,word_list,model_dm):\n",
    "    b=[]\n",
    "    for i in word_list: \n",
    "        try:\n",
    "            b.append([i,model_dm[i]])\n",
    "        except:\n",
    "            pass\n",
    "    d=pd.DataFrame(b)\n",
    "    d.to_csv(path,header=False)"
   ]
  },
  {
   "cell_type": "code",
   "execution_count": 18,
   "metadata": {
    "ExecuteTime": {
     "end_time": "2019-01-09T00:42:07.324781Z",
     "start_time": "2019-01-09T00:41:58.582861Z"
    },
    "scrolled": true
   },
   "outputs": [
    {
     "name": "stderr",
     "output_type": "stream",
     "text": [
      "/Users/xuhuimin/anaconda3/lib/python3.6/site-packages/gensim/models/doc2vec.py:366: UserWarning: The parameter `size` is deprecated, will be removed in 4.0.0, use `vector_size` instead.\n",
      "  warnings.warn(\"The parameter `size` is deprecated, will be removed in 4.0.0, use `vector_size` instead.\")\n",
      "/Users/xuhuimin/anaconda3/lib/python3.6/site-packages/IPython/core/interactiveshell.py:2808: DtypeWarning: Columns (0) have mixed types. Specify dtype option on import or set low_memory=False.\n",
      "  if self.run_code(code, result):\n"
     ]
    }
   ],
   "source": [
    "column_list = 'user_id,access_mode_id,logic_area_name,lac,ci,longtitude,latitude,busi_name,busi_type_name,\\\n",
    "app_name,app_type_name,start_time,up_pack,down_pack,up_flow,down_flow,site_name,site_channel,cont_app_id,\\\n",
    "cont_classify_id,cont_type_id,acce_url'.split(',')\n",
    "\n",
    "all_files='/Users/xuhuimin/Documents/lab/labdata/beijingmobile/allusers/*.csv'\n",
    "x_train=get_datasest()\n",
    "model_dm=train(x_train)\n",
    "save_docvec('./save_doc.csv',model_dm)\n",
    "save_wordvec('./save_word.csv',word_list('./node.csv'),model_dm)"
   ]
  },
  {
   "cell_type": "code",
   "execution_count": 19,
   "metadata": {
    "ExecuteTime": {
     "end_time": "2019-01-09T00:42:12.979017Z",
     "start_time": "2019-01-09T00:42:12.975207Z"
    },
    "scrolled": false
   },
   "outputs": [
    {
     "data": {
      "text/plain": [
       "TaggedDocument(words=['社交沟通', '微信', '社交沟通', 'QQ', '社交沟通', '微信', '社交沟通', 'QQ', '社交沟通', '微信', '社交沟通', 'QQ', '社交沟通', '微信', '社交沟通', 'QQ', '社交沟通', '微信', '其他资讯', '手机腾讯网', '社交沟通', '微信', '其他资讯', '手机腾讯网', '社交沟通', '微信', '社交沟通', 'QQ', '社交沟通', '微信', '社交沟通', 'QQ', '社交沟通', '微信', '社交沟通', 'QQ', '社交沟通', '微信', '社交沟通', 'QQ', '社交沟通', '微信', '社交沟通', 'QQ', '社交沟通', '微信', '其他资讯', '手机腾讯网', '社交沟通', 'QQ', '社交沟通', '微信', '其他资讯', '手机腾讯网', '社交沟通', 'QQ', '社交沟通', '微信', '其他资讯', '手机腾讯网', '社交沟通', 'QQ', '其他资讯', '手机腾讯网', '社交沟通', 'QQ', '其他资讯', '手机腾讯网', '社交沟通', '微信', '生活服务', '雅虎天气', '社交沟通', '微信', '社交沟通', 'QQ', '社交沟通', '微信', '社交沟通', 'QQ', '社交沟通', '微信', '社交沟通', 'QQ', '其他资讯', '手机腾讯网', '社交沟通', '微信', '其他资讯', '手机腾讯网', '社交沟通', 'QQ', '其他资讯', '手机腾讯网', '社交沟通', 'QQ', '其他资讯', '手机腾讯网', '社交沟通', '微信', '社交沟通', 'QQ', '其他资讯', '手机腾讯网', '社交沟通', '微信', '社交沟通', 'QQ', '社交沟通', '微信', '社交沟通', 'QQ', '社交沟通', '微信', '社交沟通', 'QQ', '其他资讯', '手机腾讯网', '社交沟通', 'QQ', '其他资讯', '手机腾讯网', '社交沟通', 'QQ', '社交沟通', '微信', '社交沟通', 'QQ', '社交沟通', '微信'], tags=[3])"
      ]
     },
     "execution_count": 19,
     "metadata": {},
     "output_type": "execute_result"
    }
   ],
   "source": [
    "x_train[3]"
   ]
  },
  {
   "cell_type": "code",
   "execution_count": 6,
   "metadata": {
    "ExecuteTime": {
     "end_time": "2018-11-30T12:15:18.756743Z",
     "start_time": "2018-11-30T12:15:18.736394Z"
    }
   },
   "outputs": [],
   "source": [
    "a=pd.DataFrame(x_train)\n",
    "\n",
    "a.to_csv('./x_train.csv')"
   ]
  },
  {
   "cell_type": "code",
   "execution_count": 7,
   "metadata": {
    "ExecuteTime": {
     "end_time": "2018-11-30T12:15:23.496590Z",
     "start_time": "2018-11-30T12:15:20.629609Z"
    }
   },
   "outputs": [],
   "source": [
    "radius=[]\n",
    "for j in range(len(x_train)):\n",
    "    sim=[]\n",
    "    for i in x_train[j].words:\n",
    "        try:\n",
    "            s=projection(normalize(model_dm.docvecs[j]),normalize(model_dm[i]))\n",
    "            s=(-s+1)/2\n",
    "            sim.append(s) \n",
    "        except:\n",
    "            pass\n",
    "    distance=np.sqrt(np.sum([i**2/len(sim) for i in sim]))\n",
    "    radius.append(distance)"
   ]
  },
  {
   "cell_type": "code",
   "execution_count": 61,
   "metadata": {
    "ExecuteTime": {
     "end_time": "2018-11-30T02:56:47.485719Z",
     "start_time": "2018-11-30T02:56:47.481337Z"
    }
   },
   "outputs": [],
   "source": [
    "d=pd.DataFrame(radius)\n",
    "d.to_csv('./online_rg.csv')"
   ]
  },
  {
   "cell_type": "code",
   "execution_count": 64,
   "metadata": {
    "ExecuteTime": {
     "end_time": "2018-11-30T03:07:32.691275Z",
     "start_time": "2018-11-30T03:07:31.709266Z"
    }
   },
   "outputs": [
    {
     "name": "stderr",
     "output_type": "stream",
     "text": [
      "/Users/xuhuimin/anaconda3/lib/python3.6/site-packages/IPython/core/interactiveshell.py:2698: DtypeWarning: Columns (0) have mixed types. Specify dtype option on import or set low_memory=False.\n",
      "  interactivity=interactivity, compiler=compiler, result=result)\n"
     ]
    }
   ],
   "source": [
    "a=pd.read_csv('./node.csv',names=[1,2,3])"
   ]
  },
  {
   "cell_type": "code",
   "execution_count": null,
   "metadata": {},
   "outputs": [],
   "source": []
  }
 ],
 "metadata": {
  "kernelspec": {
   "display_name": "Python [default]",
   "language": "python",
   "name": "python3"
  },
  "language_info": {
   "codemirror_mode": {
    "name": "ipython",
    "version": 3
   },
   "file_extension": ".py",
   "mimetype": "text/x-python",
   "name": "python",
   "nbconvert_exporter": "python",
   "pygments_lexer": "ipython3",
   "version": "3.5.4"
  },
  "latex_envs": {
   "LaTeX_envs_menu_present": true,
   "autoclose": false,
   "autocomplete": true,
   "bibliofile": "biblio.bib",
   "cite_by": "apalike",
   "current_citInitial": 1,
   "eqLabelWithNumbers": true,
   "eqNumInitial": 1,
   "hotkeys": {
    "equation": "Ctrl-E",
    "itemize": "Ctrl-I"
   },
   "labels_anchors": false,
   "latex_user_defs": false,
   "report_style_numbering": false,
   "user_envs_cfg": false
  },
  "toc": {
   "base_numbering": 1,
   "nav_menu": {},
   "number_sections": true,
   "sideBar": true,
   "skip_h1_title": false,
   "title_cell": "Table of Contents",
   "title_sidebar": "Contents",
   "toc_cell": false,
   "toc_position": {},
   "toc_section_display": true,
   "toc_window_display": false
  }
 },
 "nbformat": 4,
 "nbformat_minor": 2
}
