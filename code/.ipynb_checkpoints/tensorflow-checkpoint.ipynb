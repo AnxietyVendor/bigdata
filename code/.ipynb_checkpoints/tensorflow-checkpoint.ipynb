{
 "cells": [
  {
   "cell_type": "markdown",
   "metadata": {},
   "source": [
    "# Open the session of Tensorflow"
   ]
  },
  {
   "cell_type": "markdown",
   "metadata": {},
   "source": [
    "bash-3.2$ source activate tensorflow   \n",
    "\n",
    "\n",
    "(tensorflow) bash-3.2$ jupyter notebook  "
   ]
  },
  {
   "cell_type": "code",
   "execution_count": 1,
   "metadata": {
    "ExecuteTime": {
     "end_time": "2019-05-28T01:28:57.400291Z",
     "start_time": "2019-05-28T01:28:57.388661Z"
    }
   },
   "outputs": [
    {
     "data": {
      "text/plain": [
       "206350"
      ]
     },
     "execution_count": 1,
     "metadata": {},
     "output_type": "execute_result"
    }
   ],
   "source": [
    "154168+52182"
   ]
  },
  {
   "cell_type": "code",
   "execution_count": 1,
   "metadata": {
    "ExecuteTime": {
     "end_time": "2017-07-19T03:23:50.692271Z",
     "start_time": "2017-07-19T03:23:49.829927Z"
    }
   },
   "outputs": [
    {
     "name": "stdout",
     "output_type": "stream",
     "text": [
      "1.0.1\n"
     ]
    }
   ],
   "source": [
    "import tensorflow as tf\n",
    "print(tf.__version__)\n",
    "import numpy as np\n",
    "# to make this notebook's output stable across runs\n",
    "np.random.seed(42)\n"
   ]
  },
  {
   "cell_type": "markdown",
   "metadata": {
    "collapsed": true
   },
   "source": [
    "# Regression"
   ]
  },
  {
   "cell_type": "code",
   "execution_count": 2,
   "metadata": {
    "ExecuteTime": {
     "end_time": "2017-07-19T03:23:51.773962Z",
     "start_time": "2017-07-19T03:23:51.755065Z"
    },
    "collapsed": true
   },
   "outputs": [],
   "source": [
    "x = tf.placeholder(dtype=tf.float64, name='x')\n",
    "y = tf.placeholder(dtype=tf.float64, name='y')"
   ]
  },
  {
   "cell_type": "code",
   "execution_count": 3,
   "metadata": {
    "ExecuteTime": {
     "end_time": "2017-07-19T03:23:52.370010Z",
     "start_time": "2017-07-19T03:23:52.355618Z"
    },
    "collapsed": true
   },
   "outputs": [],
   "source": [
    "w = tf.Variable(0., dtype=tf.float64, name='w')\n",
    "b = tf.Variable(0., dtype=tf.float64, name='b')\n",
    "tf.summary.scalar('w', w);\n",
    "tf.summary.scalar('b', b);\n"
   ]
  },
  {
   "cell_type": "code",
   "execution_count": 4,
   "metadata": {
    "ExecuteTime": {
     "end_time": "2017-07-19T03:23:52.825689Z",
     "start_time": "2017-07-19T03:23:52.820171Z"
    },
    "collapsed": true
   },
   "outputs": [],
   "source": [
    "with tf.name_scope('y1'):\n",
    "    y1 = w*x + b"
   ]
  },
  {
   "cell_type": "code",
   "execution_count": 5,
   "metadata": {
    "ExecuteTime": {
     "end_time": "2017-07-19T03:23:53.335052Z",
     "start_time": "2017-07-19T03:23:53.322870Z"
    },
    "collapsed": true
   },
   "outputs": [],
   "source": [
    "with tf.name_scope('loss'):\n",
    "    loss = tf.reduce_mean(tf.square(y - y1))\n",
    "    tf.summary.scalar('loss',loss)"
   ]
  },
  {
   "cell_type": "code",
   "execution_count": 6,
   "metadata": {
    "ExecuteTime": {
     "end_time": "2017-07-19T03:23:53.831930Z",
     "start_time": "2017-07-19T03:23:53.755220Z"
    },
    "collapsed": true
   },
   "outputs": [],
   "source": [
    "optimizer = tf.train.GradientDescentOptimizer(0.5)\n",
    "step = tf.Variable(0, name='step', trainable=False)\n",
    "train = optimizer.minimize(loss, global_step=step)\n",
    "initialize = tf.global_variables_initializer()"
   ]
  },
  {
   "cell_type": "code",
   "execution_count": 12,
   "metadata": {
    "ExecuteTime": {
     "end_time": "2017-07-19T03:27:16.143894Z",
     "start_time": "2017-07-19T03:27:16.136345Z"
    },
    "collapsed": true
   },
   "outputs": [],
   "source": [
    "from datetime import datetime\n",
    "\n",
    "now = datetime.utcnow().strftime(\"%Y%m%d\")\n",
    "root_logdir = \"tf_logs\"\n",
    "logdir = \"{}/run-{}/\".format(root_logdir, now)\n",
    "\n",
    "summary = [tf.summary.merge_all(), step]\n",
    "\n",
    "writer = tf.summary.FileWriter(logdir)"
   ]
  },
  {
   "cell_type": "code",
   "execution_count": 13,
   "metadata": {
    "ExecuteTime": {
     "end_time": "2017-07-19T03:27:16.792056Z",
     "start_time": "2017-07-19T03:27:16.787809Z"
    }
   },
   "outputs": [
    {
     "data": {
      "text/plain": [
       "'tf_logs/run-20170719/'"
      ]
     },
     "execution_count": 13,
     "metadata": {},
     "output_type": "execute_result"
    }
   ],
   "source": [
    "logdir"
   ]
  },
  {
   "cell_type": "markdown",
   "metadata": {},
   "source": [
    "# tensorboard"
   ]
  },
  {
   "cell_type": "markdown",
   "metadata": {},
   "source": [
    "$ source activate tensorflow\n",
    "\n",
    "\n",
    "$ tensorboard --logdir tf_logs/run-20170719/"
   ]
  },
  {
   "cell_type": "code",
   "execution_count": 8,
   "metadata": {
    "ExecuteTime": {
     "end_time": "2017-07-19T03:23:54.783219Z",
     "start_time": "2017-07-19T03:23:54.778982Z"
    },
    "collapsed": true
   },
   "outputs": [],
   "source": [
    "x_dat = np.random.rand(100)\n",
    "y_dat = 3.*x_dat + 2. + 0.1*np.random.rand(100)\n",
    "feed_dict = {x:x_dat, y:y_dat}"
   ]
  },
  {
   "cell_type": "code",
   "execution_count": 9,
   "metadata": {
    "ExecuteTime": {
     "end_time": "2017-07-19T03:23:55.398859Z",
     "start_time": "2017-07-19T03:23:55.322627Z"
    },
    "collapsed": true
   },
   "outputs": [],
   "source": [
    "sess = tf.Session()\n",
    "writer.add_graph(sess.graph)\n",
    "sess.run(initialize)"
   ]
  },
  {
   "cell_type": "code",
   "execution_count": 10,
   "metadata": {
    "ExecuteTime": {
     "end_time": "2017-07-19T03:23:56.225041Z",
     "start_time": "2017-07-19T03:23:56.124800Z"
    }
   },
   "outputs": [
    {
     "name": "stdout",
     "output_type": "stream",
     "text": [
      "(0, [1.889529433232479, 3.4603254024501302, 0.89753071806440343])\n",
      "(20, [2.6628478968447271, 2.2202597683132699, 0.010754677149330635])\n",
      "(40, [2.919753691269722, 2.090267175989891, 0.0013751768481822097])\n",
      "(60, [2.9789339103742267, 2.0603223858660966, 0.00087745690870083104])\n",
      "(80, [2.9925665275018178, 2.053424373913777, 0.00085104557225393785])\n",
      "(100, [2.9957069053604952, 2.0518353639825793, 0.00084964406382002336])\n",
      "(120, [2.9964303154733867, 2.0514693233640795, 0.00084956969325970712])\n",
      "(140, [2.9965969585383254, 2.0513850031016561, 0.00084956574681164295])\n",
      "(160, [2.9966353460457666, 2.0513655792828347, 0.00084956553739474279])\n",
      "(180, [2.9966441889023718, 2.0513611048572726, 0.00084956552628210561])\n",
      "(200, [2.9966462259221776, 2.0513600741390445, 0.00084956552569241889])\n"
     ]
    }
   ],
   "source": [
    "for step in range(201):\n",
    "    sess.run(train, feed_dict)\n",
    "    if step%20 == 0:\n",
    "        print(step, sess.run([w,b,loss], feed_dict))\n",
    "        writer.add_summary(*sess.run(summary, feed_dict))"
   ]
  },
  {
   "cell_type": "code",
   "execution_count": null,
   "metadata": {
    "collapsed": true
   },
   "outputs": [],
   "source": []
  }
 ],
 "metadata": {
  "kernelspec": {
   "display_name": "Python [conda env:anaconda]",
   "language": "python",
   "name": "conda-env-anaconda-py"
  },
  "language_info": {
   "codemirror_mode": {
    "name": "ipython",
    "version": 3
   },
   "file_extension": ".py",
   "mimetype": "text/x-python",
   "name": "python",
   "nbconvert_exporter": "python",
   "pygments_lexer": "ipython3",
   "version": "3.5.4"
  },
  "latex_envs": {
   "LaTeX_envs_menu_present": true,
   "autoclose": false,
   "autocomplete": true,
   "bibliofile": "biblio.bib",
   "cite_by": "apalike",
   "current_citInitial": 1,
   "eqLabelWithNumbers": true,
   "eqNumInitial": 0,
   "hotkeys": {
    "equation": "Ctrl-E",
    "itemize": "Ctrl-I"
   },
   "labels_anchors": false,
   "latex_user_defs": false,
   "report_style_numbering": false,
   "user_envs_cfg": false
  },
  "toc": {
   "base_numbering": 1,
   "nav_menu": {},
   "number_sections": false,
   "sideBar": true,
   "skip_h1_title": false,
   "title_cell": "Table of Contents",
   "title_sidebar": "Contents",
   "toc_cell": false,
   "toc_position": {},
   "toc_section_display": true,
   "toc_window_display": false
  }
 },
 "nbformat": 4,
 "nbformat_minor": 1
}
