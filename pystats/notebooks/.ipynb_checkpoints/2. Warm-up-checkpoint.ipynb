{
 "cells": [
  {
   "cell_type": "markdown",
   "metadata": {},
   "source": [
    "> **SOMETIMES THE QUESTIONS ARE COMPLICATED AND THE ANSWERS ARE SIMPLE **\n",
    "\n",
    ">*Dr. Seuss*\n",
    "\n",
    "## Coin Toss\n",
    "\n",
    "You toss a coin 30 times and see head 24 times. Is it a fair coin?\n",
    "\n",
    "**Hypothesis 1**: Tossing a fair coin will get you 15 heads in 30 tosses. This coin is biased\n",
    "\n",
    "**Hypothesis 2**: Come on, even a fair coin could show 24 heads in 30 tosses. This is just by chance\n",
    "\n",
    "#### Statistical Method\n",
    "\n",
    "P(H) = ? \n",
    "\n",
    "P(HH) = ?\n",
    "\n",
    "P(THH) = ?\n",
    "\n",
    "Now, slightly tougher : P(2H, 1T) = ?\n",
    "\n",
    "Generalizing, \n",
    "\n",
    "<img style=\"float: left;\" src=\"img/binomial.gif\">\n",
    "\n",
    "<br>\n",
    "<br>\n",
    "<br>\n",
    "<br>\n",
    "\n",
    "\n",
    "**What is the probability of getting 24 heads in 30 tosses ?**\n",
    "\n",
    "It is the probability of getting heads 24 times or more. \n",
    "\n",
    "#### Hacker's Approach\n",
    "\n",
    "Simulation. Run the experiment 100,000 times. Find the percentage of times the experiment returned 24 or more heads. If it is more than 5%, we conclude that the coin is biased. "
   ]
  },
  {
   "cell_type": "code",
   "execution_count": 2,
   "metadata": {
    "ExecuteTime": {
     "end_time": "2019-11-02T03:46:04.387163Z",
     "start_time": "2019-11-02T03:46:04.383138Z"
    }
   },
   "outputs": [
    {
     "name": "stdout",
     "output_type": "stream",
     "text": [
      "Data of the Experiment: [0 1 1 0 0 1 1 1 0 1 0 0 1 1 0 0 0 0 1 0 0 0 1 0 1 0 1 0 0 0]\n"
     ]
    }
   ],
   "source": [
    "import numpy as np  \n",
    "\n",
    "total_tosses = 30\n",
    "num_heads = 24\n",
    "prob_head = 0.5\n",
    "\n",
    "# 0 is tail. 1 is heads. Generate one experiment\n",
    "experiment = np.random.randint(0,2,total_tosses)\n",
    "print(\"Data of the Experiment:\", experiment)"
   ]
  },
  {
   "cell_type": "code",
   "execution_count": 3,
   "metadata": {
    "ExecuteTime": {
     "end_time": "2019-11-02T03:46:09.502590Z",
     "start_time": "2019-11-02T03:46:09.499023Z"
    }
   },
   "outputs": [
    {
     "name": "stdout",
     "output_type": "stream",
     "text": [
      "Heads in the Experiment: [1 1 1 1 1 1 1 1 1 1 1 1]\n",
      "Number of heads in the experiment: 12\n"
     ]
    }
   ],
   "source": [
    "# Find the number of heads\n",
    "print(\"Heads in the Experiment:\", experiment[experiment==1])  #This will give all the heads in the array\n",
    "head_count = experiment[experiment==1].shape[0] #This will get the count of heads in the array\n",
    "print(\"Number of heads in the experiment:\", head_count)"
   ]
  },
  {
   "cell_type": "code",
   "execution_count": 4,
   "metadata": {
    "ExecuteTime": {
     "end_time": "2019-11-02T03:46:55.864775Z",
     "start_time": "2019-11-02T03:46:55.860446Z"
    }
   },
   "outputs": [],
   "source": [
    "# Now, the above experiment needs to be repeated 100 times. \n",
    "# Let's write a function and put the above code in a loop\n",
    "\n",
    "def coin_toss_experiment(times_to_repeat):\n",
    "    head_count = np.empty([times_to_repeat,1], dtype=int)\n",
    "    for times in np.arange(times_to_repeat):\n",
    "        experiment = np.random.randint(0,2,total_tosses)\n",
    "        head_count[times] = experiment[experiment==1].shape[0]\n",
    "    return head_count"
   ]
  },
  {
   "cell_type": "code",
   "execution_count": 5,
   "metadata": {
    "ExecuteTime": {
     "end_time": "2019-11-02T03:46:57.000244Z",
     "start_time": "2019-11-02T03:46:56.996520Z"
    }
   },
   "outputs": [],
   "source": [
    "head_count = coin_toss_experiment(100)"
   ]
  },
  {
   "cell_type": "code",
   "execution_count": 6,
   "metadata": {
    "ExecuteTime": {
     "end_time": "2019-11-02T03:46:57.899005Z",
     "start_time": "2019-11-02T03:46:57.890851Z"
    }
   },
   "outputs": [
    {
     "data": {
      "text/plain": [
       "array([[17],\n",
       "       [14],\n",
       "       [11],\n",
       "       [11],\n",
       "       [14],\n",
       "       [17],\n",
       "       [17],\n",
       "       [16],\n",
       "       [15],\n",
       "       [15]])"
      ]
     },
     "execution_count": 6,
     "metadata": {},
     "output_type": "execute_result"
    }
   ],
   "source": [
    "head_count[:10] "
   ]
  },
  {
   "cell_type": "code",
   "execution_count": 7,
   "metadata": {
    "ExecuteTime": {
     "end_time": "2019-11-02T03:47:07.170119Z",
     "start_time": "2019-11-02T03:47:07.166347Z"
    }
   },
   "outputs": [
    {
     "name": "stdout",
     "output_type": "stream",
     "text": [
      "Dimensions: (100, 1) \n",
      " Type of object: <class 'numpy.ndarray'>\n"
     ]
    }
   ],
   "source": [
    "print(\"Dimensions:\", head_count.shape, \"\\n\",\"Type of object:\", type(head_count))"
   ]
  },
  {
   "cell_type": "code",
   "execution_count": 8,
   "metadata": {
    "ExecuteTime": {
     "end_time": "2019-11-02T03:47:22.708303Z",
     "start_time": "2019-11-02T03:47:21.173667Z"
    }
   },
   "outputs": [],
   "source": [
    "#Let's plot the above distribution\n",
    "\n",
    "import pylab as plt\n",
    "import seaborn as sns\n",
    "sns.set(color_codes = True)"
   ]
  },
  {
   "cell_type": "code",
   "execution_count": 10,
   "metadata": {
    "ExecuteTime": {
     "end_time": "2019-11-02T03:47:28.926280Z",
     "start_time": "2019-11-02T03:47:28.779250Z"
    }
   },
   "outputs": [
    {
     "data": {
      "image/png": "[encoded data removed]",
      "text/plain": [
       "<Figure size 432x288 with 1 Axes>"
      ]
     },
     "metadata": {
      "needs_background": "light"
     },
     "output_type": "display_data"
    }
   ],
   "source": [
    "sns.distplot(head_count, kde=False);"
   ]
  },
  {
   "cell_type": "markdown",
   "metadata": {},
   "source": [
    "**Exercise**: Try setting `kde=True` in the above cell and observe what happens"
   ]
  },
  {
   "cell_type": "code",
   "execution_count": 11,
   "metadata": {
    "ExecuteTime": {
     "end_time": "2019-11-02T03:47:49.686582Z",
     "start_time": "2019-11-02T03:47:49.682224Z"
    }
   },
   "outputs": [
    {
     "data": {
      "text/plain": [
       "array([], dtype=int64)"
      ]
     },
     "execution_count": 11,
     "metadata": {},
     "output_type": "execute_result"
    }
   ],
   "source": [
    "# Number of times the experiment returned 24 heads.\n",
    "head_count[head_count>=24]"
   ]
  },
  {
   "cell_type": "code",
   "execution_count": 12,
   "metadata": {
    "ExecuteTime": {
     "end_time": "2019-11-02T03:48:09.787889Z",
     "start_time": "2019-11-02T03:48:09.783868Z"
    }
   },
   "outputs": [
    {
     "name": "stdout",
     "output_type": "stream",
     "text": [
      "No of times experiment returned 24 heads or more: 0\n",
      "% of times with 24 or more heads:  0.0\n"
     ]
    }
   ],
   "source": [
    "print(\"No of times experiment returned 24 heads or more:\", head_count[head_count>=24].shape[0])\n",
    "print(\"% of times with 24 or more heads: \", head_count[head_count>=24].shape[0]/float(head_count.shape[0])*100)"
   ]
  },
  {
   "cell_type": "markdown",
   "metadata": {},
   "source": [
    "####  Exercise: Repeat the experiment 100,000 times. "
   ]
  },
  {
   "cell_type": "markdown",
   "metadata": {},
   "source": [
    "# Is the coin fair?"
   ]
  },
  {
   "cell_type": "markdown",
   "metadata": {},
   "source": [
    "### Extra pointers on numpy"
   ]
  },
  {
   "cell_type": "markdown",
   "metadata": {},
   "source": [
    "**** Removing `for` loop in the funciton ****"
   ]
  },
  {
   "cell_type": "code",
   "execution_count": 10,
   "metadata": {},
   "outputs": [],
   "source": [
    "def coin_toss_experiment_2(times_to_repeat):\n",
    "    head_count = np.empty([times_to_repeat,1], dtype=int)\n",
    "    experiment = np.random.randint(0,2,[times_to_repeat,total_tosses])\n",
    "    return experiment.sum(axis=1)"
   ]
  },
  {
   "cell_type": "markdown",
   "metadata": {},
   "source": [
    "#### Exercise: Benchmark `coin_toss_experiment` and `coin_toss_experiment_2` for 100 and 100,000 runs and report improvements, if any"
   ]
  }
 ],
 "metadata": {
  "kernelspec": {
   "display_name": "Python 3",
   "language": "python",
   "name": "python3"
  },
  "language_info": {
   "codemirror_mode": {
    "name": "ipython",
    "version": 3
   },
   "file_extension": ".py",
   "mimetype": "text/x-python",
   "name": "python",
   "nbconvert_exporter": "python",
   "pygments_lexer": "ipython3",
   "version": "3.7.3"
  },
  "latex_envs": {
   "LaTeX_envs_menu_present": true,
   "autoclose": false,
   "autocomplete": true,
   "bibliofile": "biblio.bib",
   "cite_by": "apalike",
   "current_citInitial": 1,
   "eqLabelWithNumbers": true,
   "eqNumInitial": 1,
   "hotkeys": {
    "equation": "Ctrl-E",
    "itemize": "Ctrl-I"
   },
   "labels_anchors": false,
   "latex_user_defs": false,
   "report_style_numbering": false,
   "user_envs_cfg": false
  },
  "toc": {
   "base_numbering": 1,
   "nav_menu": {},
   "number_sections": false,
   "sideBar": true,
   "skip_h1_title": false,
   "title_cell": "Table of Contents",
   "title_sidebar": "Contents",
   "toc_cell": false,
   "toc_position": {},
   "toc_section_display": true,
   "toc_window_display": false
  }
 },
 "nbformat": 4,
 "nbformat_minor": 1
}
